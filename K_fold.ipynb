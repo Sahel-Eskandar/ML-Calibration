{
  "nbformat": 4,
  "nbformat_minor": 0,
  "metadata": {
    "colab": {
      "provenance": [],
      "authorship_tag": "ABX9TyOgCmF7WspTbNMIOpI1IqsG",
      "include_colab_link": true
    },
    "kernelspec": {
      "name": "python3",
      "display_name": "Python 3"
    },
    "language_info": {
      "name": "python"
    }
  },
  "cells": [
    {
      "cell_type": "markdown",
      "metadata": {
        "id": "view-in-github",
        "colab_type": "text"
      },
      "source": [
        "<a href=\"https://colab.research.google.com/github/Sahel-Eskandar/ML-Evaluation-Calibration/blob/main/K_fold.ipynb\" target=\"_parent\"><img src=\"https://colab.research.google.com/assets/colab-badge.svg\" alt=\"Open In Colab\"/></a>"
      ]
    },
    {
      "cell_type": "markdown",
      "source": [
        "#[1st Medium Article](https://link.medium.com/I2Zal6Ocuyb)"
      ],
      "metadata": {
        "id": "XFU9Z0r32CbQ"
      }
    },
    {
      "cell_type": "code",
      "source": [
        "import numpy as np\n",
        "from sklearn import datasets\n",
        "from sklearn.model_selection import KFold, StratifiedKFold, TimeSeriesSplit, GroupKFold\n",
        "from sklearn.linear_model import LogisticRegression, LinearRegression\n",
        "from sklearn.metrics import accuracy_score, mean_squared_error\n",
        "# Load the Iris dataset\n",
        "iris = datasets.load_iris()\n",
        "X, y = iris.data, iris.target\n",
        "\n",
        "# Create a logistic regression model\n",
        "model = LogisticRegression(solver='liblinear', multi_class='auto')"
      ],
      "metadata": {
        "id": "4L7lKKPf2BR0"
      },
      "execution_count": 2,
      "outputs": []
    },
    {
      "cell_type": "code",
      "source": [
        "# Apply regular K-Fold cross-validation\n",
        "kf = KFold(n_splits=5)\n",
        "accuracies = []\n",
        "\n",
        "for train_index, test_index in kf.split(X):\n",
        "    X_train, X_test = X[train_index], X[test_index]\n",
        "    y_train, y_test = y[train_index], y[test_index]\n",
        "\n",
        "    model.fit(X_train, y_train)\n",
        "    y_pred = model.predict(X_test)\n",
        "    accuracies.append(accuracy_score(y_test, y_pred))\n",
        "\n",
        "print(\"Regular K-Fold accuracies:\", [f\"{accuracy:.3f}\" for accuracy in accuracies])"
      ],
      "metadata": {
        "colab": {
          "base_uri": "https://localhost:8080/"
        },
        "id": "6mcM0ofd26gB",
        "outputId": "77e0aee6-ca88-4835-9df5-d4be01c3e530"
      },
      "execution_count": 11,
      "outputs": [
        {
          "output_type": "stream",
          "name": "stdout",
          "text": [
            "Regular K-Fold accuracies: ['0.917', '0.917', '0.889', '0.943', '1.000']\n"
          ]
        }
      ]
    },
    {
      "cell_type": "code",
      "source": [
        "# Apply stratified K-Fold cross-validation\n",
        "skf = StratifiedKFold(n_splits=5)\n",
        "accuracies = []\n",
        "\n",
        "for train_index, test_index in skf.split(X, y):\n",
        "    X_train, X_test = X[train_index], X[test_index]\n",
        "    y_train, y_test = y[train_index], y[test_index]\n",
        "\n",
        "    model.fit(X_train, y_train)\n",
        "    y_pred = model.predict(X_test)\n",
        "    accuracies.append(accuracy_score(y_test, y_pred))\n",
        "\n",
        "print(\"Stratified K-Fold accuracies:\", [f\"{accuracy:.3f}\" for accuracy in accuracies])"
      ],
      "metadata": {
        "colab": {
          "base_uri": "https://localhost:8080/"
        },
        "id": "R7V2pOeW20ac",
        "outputId": "e6b15780-9d98-4a63-b1fd-65c6d7e076fc"
      },
      "execution_count": 12,
      "outputs": [
        {
          "output_type": "stream",
          "name": "stdout",
          "text": [
            "Stratified K-Fold accuracies: ['0.917', '0.944', '0.944', '1.000', '1.000']\n"
          ]
        }
      ]
    },
    {
      "cell_type": "code",
      "source": [
        "# Load a time series dataset from the California housing dataset\n",
        "from sklearn.datasets import fetch_california_housing\n",
        "housing = fetch_california_housing()\n",
        "\n",
        "X, y = housing.data, housing.target\n",
        "\n",
        "# Create a linear regression model\n",
        "model = LinearRegression()\n",
        "\n",
        "# Apply time series K-Fold cross-validation\n",
        "tscv = TimeSeriesSplit(n_splits=5)\n",
        "mse_values = []\n",
        "\n",
        "for train_index, test_index in tscv.split(X):\n",
        "    X_train, X_test = X[train_index], X[test_index]\n",
        "    y_train, y_test = y[train_index], y[test_index]\n",
        "\n",
        "    model.fit(X_train, y_train)\n",
        "    y_pred = model.predict(X_test)\n",
        "    mse_values.append(mean_squared_error(y_test, y_pred))\n",
        "\n",
        "mse_v = [f\"{mse_val:.3f}\" for mse_val in mse_values]\n",
        "print(\"Time Series K-Fold mean squared errors:\", mse_v)"
      ],
      "metadata": {
        "colab": {
          "base_uri": "https://localhost:8080/"
        },
        "id": "v1yq7I7S2whv",
        "outputId": "c721ff0f-3110-40c5-c9b2-592ce3f7c294"
      },
      "execution_count": 16,
      "outputs": [
        {
          "output_type": "stream",
          "name": "stdout",
          "text": [
            "Time Series K-Fold mean squared errors: ['1.509', '0.588', '0.420', '0.734', '0.444']\n"
          ]
        }
      ]
    },
    {
      "cell_type": "code",
      "source": [
        "# Load the Wine dataset\n",
        "wine = datasets.load_wine()\n",
        "X, y = wine.data, wine.target\n",
        "\n",
        "# Create a logistic regression model\n",
        "model = LogisticRegression(solver='liblinear', multi_class='auto')\n",
        "\n",
        "# Define groups based on the assumption that wines are sorted by producers\n",
        "groups = np.array([i // (len(X) // 5) for i in range(len(X))])\n",
        "\n",
        "# Apply group K-Fold cross-validation\n",
        "gkf = GroupKFold(n_splits=5)\n",
        "accuracies = []\n",
        "\n",
        "for train_index, test_index in gkf.split(X, y, groups):\n",
        "    X_train, X_test = X[train_index], X[test_index]\n",
        "    y_train, y_test = y[train_index], y[test_index]\n",
        "\n",
        "    model.fit(X_train, y_train)\n",
        "    y_pred = model.predict(X_test)\n",
        "    accuracies.append(accuracy_score(y_test, y_pred))\n",
        "\n",
        "print(\"Group K-Fold accuracies:\", [f\"{accuracy:.3f}\" for accuracy in accuracies])"
      ],
      "metadata": {
        "colab": {
          "base_uri": "https://localhost:8080/"
        },
        "id": "D-9fnjHL2voO",
        "outputId": "07154742-4b98-4598-ca7f-32037dbf56dc"
      },
      "execution_count": 17,
      "outputs": [
        {
          "output_type": "stream",
          "name": "stdout",
          "text": [
            "Group K-Fold accuracies: ['0.974', '0.971', '0.771', '0.971', '0.914']\n"
          ]
        }
      ]
    },
    {
      "cell_type": "markdown",
      "source": [
        "#[2nd Medium Article](https://medium.com/@eskandar.sahel/evaluating-machine-learning-models-a-guide-to-selecting-the-right-performance-assessment-method-a8f61ace557a)"
      ],
      "metadata": {
        "id": "tkOiz1c31-Lq"
      }
    },
    {
      "cell_type": "code",
      "execution_count": 20,
      "metadata": {
        "id": "FK7bQE3w1TwY"
      },
      "outputs": [],
      "source": [
        "import numpy as np\n",
        "from sklearn.datasets import load_iris\n",
        "from sklearn.linear_model import LogisticRegression\n",
        "from sklearn.model_selection import train_test_split, KFold, LeaveOneOut, LeavePOut, ShuffleSplit, cross_val_score\n",
        "from sklearn.metrics import accuracy_score\n",
        "from sklearn.utils import resample\n",
        "\n",
        "# Load the iris dataset\n",
        "data = load_iris()\n",
        "X, y = data.data, data.target\n",
        "\n",
        "# Create a logistic regression classifier\n",
        "clf = LogisticRegression(max_iter=1000)"
      ]
    },
    {
      "cell_type": "code",
      "source": [
        "# Holdout Method\n",
        "X_train, X_test, y_train, y_test = train_test_split(X, y, test_size=0.3, random_state=42)\n",
        "clf.fit(X_train, y_train)\n",
        "y_pred = clf.predict(X_test)\n",
        "print(\"Holdout Method Accuracy: \", accuracy_score(y_test, y_pred))"
      ],
      "metadata": {
        "colab": {
          "base_uri": "https://localhost:8080/"
        },
        "id": "nGgbJZi0Bh7Q",
        "outputId": "e2f7ff79-0123-4c65-a129-5683548d060d"
      },
      "execution_count": 21,
      "outputs": [
        {
          "output_type": "stream",
          "name": "stdout",
          "text": [
            "Holdout Method Accuracy:  1.0\n"
          ]
        }
      ]
    },
    {
      "cell_type": "code",
      "source": [
        "# K-Fold Cross-Validation\n",
        "k_fold = KFold(n_splits=5)\n",
        "cv_scores = cross_val_score(clf, X, y, cv=k_fold)\n",
        "print(\"K-Fold Cross-Validation Mean Accuracy: \", np.mean(cv_scores))"
      ],
      "metadata": {
        "colab": {
          "base_uri": "https://localhost:8080/"
        },
        "id": "byYvN_bNBlN5",
        "outputId": "475b1559-6ad9-47c3-c662-3c9d71997610"
      },
      "execution_count": 22,
      "outputs": [
        {
          "output_type": "stream",
          "name": "stdout",
          "text": [
            "K-Fold Cross-Validation Mean Accuracy:  0.9266666666666665\n"
          ]
        }
      ]
    },
    {
      "cell_type": "code",
      "source": [
        "# Leave-One-Out Cross-Validation\n",
        "loocv = LeaveOneOut()\n",
        "cv_scores = cross_val_score(clf, X, y, cv=loocv)\n",
        "print(\"Leave-One-Out Cross-Validation Mean Accuracy: \", np.mean(cv_scores))"
      ],
      "metadata": {
        "colab": {
          "base_uri": "https://localhost:8080/"
        },
        "id": "LtmgUoVSBni2",
        "outputId": "2670f34a-b4f4-4063-ed75-b23c682b9a1e"
      },
      "execution_count": 23,
      "outputs": [
        {
          "output_type": "stream",
          "name": "stdout",
          "text": [
            "Leave-One-Out Cross-Validation Mean Accuracy:  0.9666666666666667\n"
          ]
        }
      ]
    },
    {
      "cell_type": "code",
      "source": [
        "# Leave-P-Out Cross-Validation\n",
        "lpocv = LeavePOut(p=2)\n",
        "cv_scores = cross_val_score(clf, X, y, cv=lpocv)\n",
        "print(\"Leave-P-Out Cross-Validation Mean Accuracy: \", np.mean(cv_scores))"
      ],
      "metadata": {
        "colab": {
          "base_uri": "https://localhost:8080/"
        },
        "id": "u5ihmSvIBnme",
        "outputId": "12363a3a-fbce-44e2-ab20-c6a244de0c1f"
      },
      "execution_count": 24,
      "outputs": [
        {
          "output_type": "stream",
          "name": "stdout",
          "text": [
            "Leave-P-Out Cross-Validation Mean Accuracy:  0.965413870246085\n"
          ]
        }
      ]
    },
    {
      "cell_type": "code",
      "source": [
        "# Repeated Random Subsampling (Monte Carlo Cross-Validation)\n",
        "ss = ShuffleSplit(n_splits=10, test_size=0.3, random_state=42)\n",
        "cv_scores = cross_val_score(clf, X, y, cv=ss)\n",
        "print(\"Repeated Random Subsampling Mean Accuracy: \", np.mean(cv_scores))"
      ],
      "metadata": {
        "colab": {
          "base_uri": "https://localhost:8080/"
        },
        "id": "DIa0GQ7YBnx9",
        "outputId": "eb319126-3db3-4d25-87d5-cb044c891209"
      },
      "execution_count": 25,
      "outputs": [
        {
          "output_type": "stream",
          "name": "stdout",
          "text": [
            "Repeated Random Subsampling Mean Accuracy:  0.96\n"
          ]
        }
      ]
    },
    {
      "cell_type": "code",
      "source": [
        "# Bootstrapping\n",
        "n_iterations = 100\n",
        "n_size = int(len(X) * 0.7)\n",
        "bootstrap_scores = []\n",
        "\n",
        "for i in range(n_iterations):\n",
        "    X_resample, y_resample = resample(X, y, n_samples=n_size)\n",
        "    \n",
        "    # Convert the numpy arrays to lists\n",
        "    xy = [tuple(row) for row in np.column_stack((X, y))]\n",
        "    xy_resampled = [tuple(row) for row in np.column_stack((X_resample, y_resample))]\n",
        "    \n",
        "    # Find the test set by excluding resampled data points\n",
        "    test_indices = [i for i, pair in enumerate(xy) if pair not in xy_resampled]\n",
        "    X_test, y_test = X[test_indices], y[test_indices]\n",
        "    \n",
        "    clf.fit(X_resample, y_resample)\n",
        "    y_pred = clf.predict(X_test)\n",
        "    bootstrap_scores.append(accuracy_score(y_test, y_pred))\n",
        "print(\"Bootstrapping Mean Accuracy: \", np.mean(bootstrap_scores))"
      ],
      "metadata": {
        "colab": {
          "base_uri": "https://localhost:8080/"
        },
        "id": "zwxJXQkC1aR2",
        "outputId": "fa54abac-9958-4628-c9b6-33ea0ee5cf32"
      },
      "execution_count": 26,
      "outputs": [
        {
          "output_type": "stream",
          "name": "stdout",
          "text": [
            "Bootstrapping Mean Accuracy:  0.9554679336669741\n"
          ]
        }
      ]
    },
    {
      "cell_type": "code",
      "source": [],
      "metadata": {
        "id": "KDzWsA2XAn3Q"
      },
      "execution_count": null,
      "outputs": []
    }
  ]
}